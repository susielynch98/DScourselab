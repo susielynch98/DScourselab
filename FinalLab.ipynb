{
 "cells": [
  {
   "cell_type": "markdown",
   "id": "52c3bfbe-bddb-4cb5-8827-44f4b97afdee",
   "metadata": {},
   "source": [
    "# Data Science Tools and Ecosystem"
   ]
  },
  {
   "cell_type": "markdown",
   "id": "fea5c67f-a7a8-49b3-95bc-f5a8b152c757",
   "metadata": {},
   "source": [
    "In this notebook, Data Science Tools an dEcosystem are summarized."
   ]
  },
  {
   "cell_type": "markdown",
   "id": "3af90786-8018-49a0-b4aa-3d3f03741e85",
   "metadata": {},
   "source": [
    "## **Objectives**\n",
    "* List popular data science languages\n",
    "* Show common data science tool\n",
    "* Show an example of evaluating expressions using Python"
   ]
  },
  {
   "cell_type": "markdown",
   "id": "95e7ea21-af48-4409-9375-03369885f675",
   "metadata": {},
   "source": [
    "Some of the popular languages that Data Scientist use are:\n",
    "1. Python\n",
    "2. R\n",
    "3. SQL"
   ]
  },
  {
   "cell_type": "markdown",
   "id": "029bc7b8-f1f8-4051-942d-5d708b28b699",
   "metadata": {},
   "source": [
    "Some of the commonly used libraryes used by Data Scientists include:\n",
    "1. NumPy\n",
    "2. Seaborn\n",
    "3. Pandas"
   ]
  },
  {
   "cell_type": "markdown",
   "id": "f89d4169-1b08-4200-a382-b6970cdddb0e",
   "metadata": {},
   "source": [
    "|Data Science Tools|\n",
    "|------------------|\n",
    "| Apache Spark|\n",
    "|SAS|\n",
    "|Jupyter Notebook|"
   ]
  },
  {
   "cell_type": "markdown",
   "id": "7245d0b5-c1f3-4f92-99b4-7bc0e90e8a04",
   "metadata": {},
   "source": [
    "### Below are a few examples of evaluating arthmetic expressions in Python."
   ]
  },
  {
   "cell_type": "code",
   "execution_count": 4,
   "id": "9c38af77-1a23-4283-8013-a7153943a86e",
   "metadata": {},
   "outputs": [
    {
     "data": {
      "text/plain": [
       "17"
      ]
     },
     "execution_count": 4,
     "metadata": {},
     "output_type": "execute_result"
    }
   ],
   "source": [
    "# This is a simple arthmetic expression to multiply and add integers\n",
    "(3*4)+5"
   ]
  },
  {
   "cell_type": "markdown",
   "id": "807b4657-4983-4e82-bc6c-564f0d0d2683",
   "metadata": {},
   "source": [
    "## Author\n",
    "Susie Lynch"
   ]
  },
  {
   "cell_type": "code",
   "execution_count": null,
   "id": "7a877101-811c-4512-9ac1-36f23f112867",
   "metadata": {},
   "outputs": [],
   "source": []
  }
 ],
 "metadata": {
  "kernelspec": {
   "display_name": "Python 3 (ipykernel)",
   "language": "python",
   "name": "python3"
  },
  "language_info": {
   "codemirror_mode": {
    "name": "ipython",
    "version": 3
   },
   "file_extension": ".py",
   "mimetype": "text/x-python",
   "name": "python",
   "nbconvert_exporter": "python",
   "pygments_lexer": "ipython3",
   "version": "3.8.18"
  }
 },
 "nbformat": 4,
 "nbformat_minor": 5
}
